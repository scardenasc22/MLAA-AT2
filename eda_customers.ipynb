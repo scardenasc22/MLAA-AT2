{
 "cells": [
  {
   "cell_type": "markdown",
   "metadata": {},
   "source": [
    "### importing the dataset"
   ]
  },
  {
   "cell_type": "code",
   "execution_count": 4,
   "metadata": {},
   "outputs": [
    {
     "data": {
      "text/html": [
       "<div>\n",
       "<style scoped>\n",
       "    .dataframe tbody tr th:only-of-type {\n",
       "        vertical-align: middle;\n",
       "    }\n",
       "\n",
       "    .dataframe tbody tr th {\n",
       "        vertical-align: top;\n",
       "    }\n",
       "\n",
       "    .dataframe thead th {\n",
       "        text-align: right;\n",
       "    }\n",
       "</style>\n",
       "<table border=\"1\" class=\"dataframe\">\n",
       "  <thead>\n",
       "    <tr style=\"text-align: right;\">\n",
       "      <th></th>\n",
       "      <th>ssn</th>\n",
       "      <th>cc_num</th>\n",
       "      <th>first</th>\n",
       "      <th>last</th>\n",
       "      <th>gender</th>\n",
       "      <th>street</th>\n",
       "      <th>city</th>\n",
       "      <th>state</th>\n",
       "      <th>zip</th>\n",
       "      <th>lat</th>\n",
       "      <th>long</th>\n",
       "      <th>city_pop</th>\n",
       "      <th>job</th>\n",
       "      <th>dob</th>\n",
       "      <th>acct_num</th>\n",
       "    </tr>\n",
       "  </thead>\n",
       "  <tbody>\n",
       "    <tr>\n",
       "      <th>0</th>\n",
       "      <td>115-04-4507</td>\n",
       "      <td>4218196001337</td>\n",
       "      <td>Jonathan</td>\n",
       "      <td>Johnson</td>\n",
       "      <td>M</td>\n",
       "      <td>863 Lawrence Valleys</td>\n",
       "      <td>Ambler</td>\n",
       "      <td>PA</td>\n",
       "      <td>19002</td>\n",
       "      <td>40.1809</td>\n",
       "      <td>-75.2156</td>\n",
       "      <td>32412</td>\n",
       "      <td>Accounting technician</td>\n",
       "      <td>1959-10-03</td>\n",
       "      <td>888022315787</td>\n",
       "    </tr>\n",
       "    <tr>\n",
       "      <th>1</th>\n",
       "      <td>715-55-5575</td>\n",
       "      <td>4351161559407816183</td>\n",
       "      <td>Elaine</td>\n",
       "      <td>Fuller</td>\n",
       "      <td>F</td>\n",
       "      <td>310 Kendra Common Apt. 164</td>\n",
       "      <td>Leland</td>\n",
       "      <td>NC</td>\n",
       "      <td>28451</td>\n",
       "      <td>34.2680</td>\n",
       "      <td>-78.0578</td>\n",
       "      <td>27112</td>\n",
       "      <td>Professor Emeritus</td>\n",
       "      <td>1963-06-07</td>\n",
       "      <td>917558277935</td>\n",
       "    </tr>\n",
       "    <tr>\n",
       "      <th>2</th>\n",
       "      <td>167-48-5821</td>\n",
       "      <td>4192832764832</td>\n",
       "      <td>Michael</td>\n",
       "      <td>Cameron</td>\n",
       "      <td>M</td>\n",
       "      <td>05641 Robin Port</td>\n",
       "      <td>Cordova</td>\n",
       "      <td>SC</td>\n",
       "      <td>29039</td>\n",
       "      <td>33.4275</td>\n",
       "      <td>-80.8857</td>\n",
       "      <td>4215</td>\n",
       "      <td>International aid/development worker</td>\n",
       "      <td>1973-05-30</td>\n",
       "      <td>718172762479</td>\n",
       "    </tr>\n",
       "    <tr>\n",
       "      <th>3</th>\n",
       "      <td>406-83-7518</td>\n",
       "      <td>4238849696532874</td>\n",
       "      <td>Brandon</td>\n",
       "      <td>Williams</td>\n",
       "      <td>M</td>\n",
       "      <td>26916 Carlson Mountain</td>\n",
       "      <td>Birmingham</td>\n",
       "      <td>AL</td>\n",
       "      <td>35242</td>\n",
       "      <td>33.3813</td>\n",
       "      <td>-86.7046</td>\n",
       "      <td>493806</td>\n",
       "      <td>Seismic interpreter</td>\n",
       "      <td>1942-12-26</td>\n",
       "      <td>947268892251</td>\n",
       "    </tr>\n",
       "    <tr>\n",
       "      <th>4</th>\n",
       "      <td>697-93-1877</td>\n",
       "      <td>4514627048281480</td>\n",
       "      <td>Lisa</td>\n",
       "      <td>Hernandez</td>\n",
       "      <td>F</td>\n",
       "      <td>809 Burns Creek</td>\n",
       "      <td>Fargo</td>\n",
       "      <td>GA</td>\n",
       "      <td>31631</td>\n",
       "      <td>30.7166</td>\n",
       "      <td>-82.5801</td>\n",
       "      <td>559</td>\n",
       "      <td>Medical laboratory scientific officer</td>\n",
       "      <td>1939-05-22</td>\n",
       "      <td>888335239225</td>\n",
       "    </tr>\n",
       "  </tbody>\n",
       "</table>\n",
       "</div>"
      ],
      "text/plain": [
       "           ssn               cc_num     first       last gender  \\\n",
       "0  115-04-4507        4218196001337  Jonathan    Johnson      M   \n",
       "1  715-55-5575  4351161559407816183    Elaine     Fuller      F   \n",
       "2  167-48-5821        4192832764832   Michael    Cameron      M   \n",
       "3  406-83-7518     4238849696532874   Brandon   Williams      M   \n",
       "4  697-93-1877     4514627048281480      Lisa  Hernandez      F   \n",
       "\n",
       "                       street        city state    zip      lat     long  \\\n",
       "0        863 Lawrence Valleys      Ambler    PA  19002  40.1809 -75.2156   \n",
       "1  310 Kendra Common Apt. 164      Leland    NC  28451  34.2680 -78.0578   \n",
       "2            05641 Robin Port     Cordova    SC  29039  33.4275 -80.8857   \n",
       "3      26916 Carlson Mountain  Birmingham    AL  35242  33.3813 -86.7046   \n",
       "4             809 Burns Creek       Fargo    GA  31631  30.7166 -82.5801   \n",
       "\n",
       "   city_pop                                    job         dob      acct_num  \n",
       "0     32412                  Accounting technician  1959-10-03  888022315787  \n",
       "1     27112                     Professor Emeritus  1963-06-07  917558277935  \n",
       "2      4215   International aid/development worker  1973-05-30  718172762479  \n",
       "3    493806                    Seismic interpreter  1942-12-26  947268892251  \n",
       "4       559  Medical laboratory scientific officer  1939-05-22  888335239225  "
      ]
     },
     "execution_count": 4,
     "metadata": {},
     "output_type": "execute_result"
    }
   ],
   "source": [
    "import pandas as pd\n",
    "file_path = '~/Documents/Projects/MLAA/data/raw_data/customers.csv'\n",
    "df = pd.read_csv(\n",
    "    filepath_or_buffer = file_path,\n",
    "    delimiter = \"|\"\n",
    ")\n",
    "df.head()"
   ]
  },
  {
   "cell_type": "markdown",
   "metadata": {},
   "source": [
    "### explore the dataset"
   ]
  },
  {
   "cell_type": "code",
   "execution_count": 5,
   "metadata": {},
   "outputs": [
    {
     "name": "stdout",
     "output_type": "stream",
     "text": [
      "<class 'pandas.core.frame.DataFrame'>\n",
      "RangeIndex: 1000 entries, 0 to 999\n",
      "Data columns (total 15 columns):\n",
      " #   Column    Non-Null Count  Dtype  \n",
      "---  ------    --------------  -----  \n",
      " 0   ssn       1000 non-null   object \n",
      " 1   cc_num    1000 non-null   int64  \n",
      " 2   first     1000 non-null   object \n",
      " 3   last      1000 non-null   object \n",
      " 4   gender    1000 non-null   object \n",
      " 5   street    1000 non-null   object \n",
      " 6   city      1000 non-null   object \n",
      " 7   state     1000 non-null   object \n",
      " 8   zip       1000 non-null   int64  \n",
      " 9   lat       1000 non-null   float64\n",
      " 10  long      1000 non-null   float64\n",
      " 11  city_pop  1000 non-null   int64  \n",
      " 12  job       1000 non-null   object \n",
      " 13  dob       1000 non-null   object \n",
      " 14  acct_num  1000 non-null   int64  \n",
      "dtypes: float64(2), int64(4), object(9)\n",
      "memory usage: 117.3+ KB\n"
     ]
    }
   ],
   "source": [
    "df.info()"
   ]
  },
  {
   "cell_type": "markdown",
   "metadata": {},
   "source": [
    "this table contains information about 1,000 customers with the follwing fields\n",
    "- **ssn:** social security number\n",
    "- **cc_num:** credit card number\n",
    "- **first:** first name\n",
    "- **last:** last name\n",
    "- **gender** (self explanatory)\n",
    "- **street** (address)\n",
    "- **city**\n",
    "- **state**\n",
    "- **zip** (code)\n",
    "- **lat:** latitude coordinates\n",
    "- **long:** longiture coordinates\n",
    "- **job** (self explanatory)\n",
    "- **dob:** data of birth\n",
    "- **acct_num:** account number"
   ]
  },
  {
   "cell_type": "code",
   "execution_count": 17,
   "metadata": {},
   "outputs": [
    {
     "data": {
      "text/plain": [
       "ssn         0\n",
       "cc_num      0\n",
       "first       0\n",
       "last        0\n",
       "gender      0\n",
       "street      0\n",
       "city        0\n",
       "state       0\n",
       "zip         0\n",
       "lat         0\n",
       "long        0\n",
       "city_pop    0\n",
       "job         0\n",
       "dob         0\n",
       "acct_num    0\n",
       "dtype: int64"
      ]
     },
     "execution_count": 17,
     "metadata": {},
     "output_type": "execute_result"
    }
   ],
   "source": [
    "df.isna().sum()"
   ]
  },
  {
   "cell_type": "markdown",
   "metadata": {},
   "source": [
    "meaning that there are not NaN values on the table"
   ]
  },
  {
   "cell_type": "code",
   "execution_count": 7,
   "metadata": {},
   "outputs": [
    {
     "data": {
      "text/plain": [
       "np.int64(0)"
      ]
     },
     "execution_count": 7,
     "metadata": {},
     "output_type": "execute_result"
    }
   ],
   "source": [
    "df.duplicated().sum()"
   ]
  },
  {
   "cell_type": "markdown",
   "metadata": {},
   "source": [
    "there are no duplicate values on the dataset"
   ]
  },
  {
   "cell_type": "markdown",
   "metadata": {},
   "source": [
    "### feature exploration"
   ]
  },
  {
   "cell_type": "markdown",
   "metadata": {},
   "source": [
    "#### 1. ssn"
   ]
  },
  {
   "cell_type": "code",
   "execution_count": 21,
   "metadata": {},
   "outputs": [
    {
     "name": "stdout",
     "output_type": "stream",
     "text": [
      "there are 1000 unique ssn in the dataset\n"
     ]
    }
   ],
   "source": [
    "field = 'ssn'\n",
    "print(f'there are {len(df[field].unique())} unique {field} in the dataset')"
   ]
  },
  {
   "cell_type": "markdown",
   "metadata": {},
   "source": [
    "#### 2. cc_num"
   ]
  },
  {
   "cell_type": "code",
   "execution_count": 20,
   "metadata": {},
   "outputs": [
    {
     "name": "stdout",
     "output_type": "stream",
     "text": [
      "there are 1000 unique cc_num in the dataset\n"
     ]
    }
   ],
   "source": [
    "field = 'cc_num'\n",
    "print(f'there are {len(df[field].unique())} unique {field} in the dataset')"
   ]
  },
  {
   "cell_type": "markdown",
   "metadata": {},
   "source": [
    "#### 3. gender"
   ]
  },
  {
   "cell_type": "code",
   "execution_count": 23,
   "metadata": {},
   "outputs": [
    {
     "data": {
      "text/plain": [
       "gender\n",
       "F    0.512\n",
       "M    0.488\n",
       "Name: proportion, dtype: float64"
      ]
     },
     "execution_count": 23,
     "metadata": {},
     "output_type": "execute_result"
    }
   ],
   "source": [
    "df['gender'].value_counts(normalize=True)"
   ]
  },
  {
   "cell_type": "code",
   "execution_count": 28,
   "metadata": {},
   "outputs": [
    {
     "data": {
      "text/plain": [
       "<Axes: ylabel='gender'>"
      ]
     },
     "execution_count": 28,
     "metadata": {},
     "output_type": "execute_result"
    },
    {
     "data": {
      "image/png": "[encoded data removed]",
      "text/plain": [
       "<Figure size 640x480 with 1 Axes>"
      ]
     },
     "metadata": {},
     "output_type": "display_data"
    }
   ],
   "source": [
    "import matplotlib.pyplot as plt\n",
    "palette = ['#DB444B', '#006BA2']\n",
    "df.gender.value_counts(normalize=True).plot(kind = 'barh', color = palette)"
   ]
  },
  {
   "cell_type": "markdown",
   "metadata": {},
   "source": [
    "there are slightly more female than male customers, though the difference is not substantial"
   ]
  },
  {
   "cell_type": "markdown",
   "metadata": {},
   "source": [
    "#### 4. state"
   ]
  },
  {
   "cell_type": "code",
   "execution_count": 30,
   "metadata": {},
   "outputs": [
    {
     "name": "stdout",
     "output_type": "stream",
     "text": [
      "there are 51 unique state in the dataset\n"
     ]
    }
   ],
   "source": [
    "field = 'state'\n",
    "print(f'there are {len(df[field].unique())} unique {field} in the dataset')"
   ]
  },
  {
   "cell_type": "code",
   "execution_count": 80,
   "metadata": {},
   "outputs": [
    {
     "data": {
      "text/plain": [
       "Text(0.5, 1.0, 'Top 10 states by number\\nof customers')"
      ]
     },
     "execution_count": 80,
     "metadata": {},
     "output_type": "execute_result"
    },
    {
     "data": {
      "image/png": "[encoded data removed]",
      "text/plain": [
       "<Figure size 640x480 with 1 Axes>"
      ]
     },
     "metadata": {},
     "output_type": "display_data"
    }
   ],
   "source": [
    "import seaborn as sns\n",
    "data_to_plot = df['state'].value_counts().head(10).sort_values(ascending=False).reset_index()\n",
    "sns.barplot(\n",
    "    data = data_to_plot,\n",
    "    y = 'state',\n",
    "    x = 'count',\n",
    "    hue = 'state',\n",
    "    palette = 'Reds_r'\n",
    ")\n",
    "plt.title('Top 10 states by number\\nof customers')"
   ]
  },
  {
   "cell_type": "markdown",
   "metadata": {},
   "source": [
    "The states with the most amount of custumers are California, Texas and New York, however none of them account for more than 11% each over the total number of customers"
   ]
  },
  {
   "cell_type": "markdown",
   "metadata": {},
   "source": [
    "#### 5. city and city_pop"
   ]
  },
  {
   "cell_type": "code",
   "execution_count": 71,
   "metadata": {},
   "outputs": [
    {
     "name": "stdout",
     "output_type": "stream",
     "text": [
      "there are 736 unique city in the dataset\n"
     ]
    }
   ],
   "source": [
    "field = 'city'\n",
    "print(f'there are {len(df[field].unique())} unique {field} in the dataset')"
   ]
  },
  {
   "cell_type": "code",
   "execution_count": 78,
   "metadata": {},
   "outputs": [
    {
     "data": {
      "text/plain": [
       "Text(0.5, 1.0, 'Top 10 cities by population')"
      ]
     },
     "execution_count": 78,
     "metadata": {},
     "output_type": "execute_result"
    },
    {
     "data": {
      "image/png": "[encoded data removed]",
      "text/plain": [
       "<Figure size 640x480 with 1 Axes>"
      ]
     },
     "metadata": {},
     "output_type": "display_data"
    }
   ],
   "source": [
    "data_to_plot = df[['city', 'city_pop']].drop_duplicates().sort_values(by = 'city_pop', ascending=False).head(10)\n",
    "sns.barplot(\n",
    "    data = data_to_plot,\n",
    "    y = 'city',\n",
    "    x = 'city_pop',\n",
    "    hue = 'city',\n",
    "    palette = 'Reds_r'\n",
    ")\n",
    "plt.title('Top 10 cities by population')"
   ]
  },
  {
   "cell_type": "markdown",
   "metadata": {},
   "source": [
    "#### 6. job"
   ]
  },
  {
   "cell_type": "code",
   "execution_count": 82,
   "metadata": {},
   "outputs": [
    {
     "name": "stdout",
     "output_type": "stream",
     "text": [
      "there are 507 unique job in the dataset\n"
     ]
    }
   ],
   "source": [
    "field = 'job'\n",
    "print(f'there are {len(df[field].unique())} unique {field} in the dataset')"
   ]
  },
  {
   "cell_type": "code",
   "execution_count": 83,
   "metadata": {},
   "outputs": [
    {
     "data": {
      "text/plain": [
       "Text(0.5, 1.0, 'Top 10 jobs by number\\nof customers')"
      ]
     },
     "execution_count": 83,
     "metadata": {},
     "output_type": "execute_result"
    },
    {
     "data": {
      "image/png": "[encoded data removed]",
      "text/plain": [
       "<Figure size 640x480 with 1 Axes>"
      ]
     },
     "metadata": {},
     "output_type": "display_data"
    }
   ],
   "source": [
    "data_to_plot = df['job'].value_counts().head(10).sort_values(ascending=False).reset_index()\n",
    "sns.barplot(\n",
    "    data = data_to_plot,\n",
    "    y = 'job',\n",
    "    x = 'count',\n",
    "    hue = 'job',\n",
    "    palette = 'Reds_r'\n",
    ")\n",
    "plt.title('Top 10 jobs by number\\nof customers')"
   ]
  },
  {
   "cell_type": "markdown",
   "metadata": {},
   "source": [
    "### feature engineering"
   ]
  },
  {
   "cell_type": "code",
   "execution_count": 84,
   "metadata": {},
   "outputs": [],
   "source": [
    "df_eng = df.copy()"
   ]
  },
  {
   "cell_type": "markdown",
   "metadata": {},
   "source": [
    "#### 8. age feature"
   ]
  },
  {
   "cell_type": "code",
   "execution_count": 89,
   "metadata": {},
   "outputs": [
    {
     "data": {
      "text/plain": [
       "Text(0.5, 1.0, 'age histogram')"
      ]
     },
     "execution_count": 89,
     "metadata": {},
     "output_type": "execute_result"
    },
    {
     "data": {
      "image/png": "[encoded data removed]",
      "text/plain": [
       "<Figure size 640x480 with 1 Axes>"
      ]
     },
     "metadata": {},
     "output_type": "display_data"
    }
   ],
   "source": [
    "df_eng['dob'] = pd.to_datetime(df_eng['dob'])\n",
    "df_eng['age'] = (pd.Timestamp('now') - df_eng['dob']).dt.days / 365\n",
    "df_eng['age'].hist(bins = 30, grid = False)\n",
    "plt.title('age histogram')"
   ]
  },
  {
   "cell_type": "code",
   "execution_count": 90,
   "metadata": {},
   "outputs": [
    {
     "name": "stdout",
     "output_type": "stream",
     "text": [
      "<class 'pandas.core.frame.DataFrame'>\n",
      "RangeIndex: 1000 entries, 0 to 999\n",
      "Data columns (total 15 columns):\n",
      " #   Column    Non-Null Count  Dtype  \n",
      "---  ------    --------------  -----  \n",
      " 0   ssn       1000 non-null   object \n",
      " 1   cc_num    1000 non-null   int64  \n",
      " 2   first     1000 non-null   object \n",
      " 3   last      1000 non-null   object \n",
      " 4   gender    1000 non-null   object \n",
      " 5   street    1000 non-null   object \n",
      " 6   city      1000 non-null   object \n",
      " 7   state     1000 non-null   object \n",
      " 8   zip       1000 non-null   int64  \n",
      " 9   lat       1000 non-null   float64\n",
      " 10  long      1000 non-null   float64\n",
      " 11  city_pop  1000 non-null   int64  \n",
      " 12  job       1000 non-null   object \n",
      " 13  acct_num  1000 non-null   int64  \n",
      " 14  age       1000 non-null   float64\n",
      "dtypes: float64(3), int64(4), object(8)\n",
      "memory usage: 117.3+ KB\n"
     ]
    }
   ],
   "source": [
    "df_eng.drop(columns = ['dob'], inplace = True)\n",
    "df_eng.info()"
   ]
  },
  {
   "cell_type": "markdown",
   "metadata": {},
   "source": [
    "### exporting the dataset for later usage"
   ]
  },
  {
   "cell_type": "code",
   "execution_count": 95,
   "metadata": {},
   "outputs": [],
   "source": [
    "target_path = '~/Documents/Projects/MLAA/data/processed_data/customers_ready.csv'\n",
    "df_eng.to_csv(path_or_buf = target_path, index = False)"
   ]
  }
 ],
 "metadata": {
  "kernelspec": {
   "display_name": ".env",
   "language": "python",
   "name": "python3"
  },
  "language_info": {
   "codemirror_mode": {
    "name": "ipython",
    "version": 3
   },
   "file_extension": ".py",
   "mimetype": "text/x-python",
   "name": "python",
   "nbconvert_exporter": "python",
   "pygments_lexer": "ipython3",
   "version": "3.9.6"
  }
 },
 "nbformat": 4,
 "nbformat_minor": 2
}
